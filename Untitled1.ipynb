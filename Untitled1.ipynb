{
 "cells": [
  {
   "cell_type": "code",
   "execution_count": 1,
   "id": "3cffcacf",
   "metadata": {},
   "outputs": [
    {
     "ename": "ImportError",
     "evalue": "cannot import name 'MiceImputer' from 'mice' (C:\\anaconda\\Lib\\site-packages\\mice\\__init__.py)",
     "output_type": "error",
     "traceback": [
      "\u001b[1;31m---------------------------------------------------------------------------\u001b[0m",
      "\u001b[1;31mImportError\u001b[0m                               Traceback (most recent call last)",
      "Cell \u001b[1;32mIn[1], line 5\u001b[0m\n\u001b[0;32m      3\u001b[0m \u001b[38;5;28;01mfrom\u001b[39;00m \u001b[38;5;21;01msklearn\u001b[39;00m\u001b[38;5;21;01m.\u001b[39;00m\u001b[38;5;21;01mcompose\u001b[39;00m \u001b[38;5;28;01mimport\u001b[39;00m ColumnTransformer\n\u001b[0;32m      4\u001b[0m \u001b[38;5;28;01mfrom\u001b[39;00m \u001b[38;5;21;01msklearn\u001b[39;00m\u001b[38;5;21;01m.\u001b[39;00m\u001b[38;5;21;01mpipeline\u001b[39;00m \u001b[38;5;28;01mimport\u001b[39;00m Pipeline\n\u001b[1;32m----> 5\u001b[0m \u001b[38;5;28;01mfrom\u001b[39;00m \u001b[38;5;21;01mmice\u001b[39;00m \u001b[38;5;28;01mimport\u001b[39;00m MiceImputer, CategoricalImputer\n\u001b[0;32m      6\u001b[0m \u001b[38;5;66;03m# Load the datasets\u001b[39;00m\n\u001b[0;32m      7\u001b[0m X \u001b[38;5;241m=\u001b[39m pd\u001b[38;5;241m.\u001b[39mread_csv(\u001b[38;5;124m\"\u001b[39m\u001b[38;5;124mtraining_set_features.csv\u001b[39m\u001b[38;5;124m\"\u001b[39m)\n",
      "\u001b[1;31mImportError\u001b[0m: cannot import name 'MiceImputer' from 'mice' (C:\\anaconda\\Lib\\site-packages\\mice\\__init__.py)"
     ]
    }
   ],
   "source": [
    "import pandas as pd\n",
    "from sklearn.preprocessing import OneHotEncoder, StandardScaler\n",
    "from sklearn.compose import ColumnTransformer\n",
    "from sklearn.pipeline import Pipeline\n",
    "from mice import MiceImputer, CategoricalImputer\n",
    "# Load the datasets\n",
    "X = pd.read_csv(\"training_set_features.csv\")\n",
    "y = pd.read_csv(\"training_set_labels.csv\")\n",
    "z = pd.read_csv(\"training_set_labels.csv\")\n",
    "final = pd.read_csv(\"test_set_features.csv\")\n",
    "\n",
    "# Remove respondent_id, employment_industry, employment_occupation and health_insurance from X dataframe \n",
    "X = X.drop(['respondent_id', 'employment_industry', 'employment_occupation', 'health_insurance'], axis=1)\n",
    "\n",
    "# Remove respondent_id, seasonal_vaccine from y dataframe\n",
    "y = y.drop(['respondent_id', 'seasonal_vaccine'], axis=1)\n",
    "\n",
    "# Remove respondent_id, seasonal_vaccine from z dataframe\n",
    "z= z.drop(['respondent_id', 'h1n1_vaccine'], axis=1)\n",
    "\n",
    "# Extracting the respondent_id column from the final dataframe\n",
    "respondent_id = final['respondent_id']\n",
    "\n",
    "#Remove respondent_id, employment_industry, employment_occupation and health_insurance from final dataframe\n",
    "final = final.drop(['respondent_id', 'employment_industry', 'employment_occupation', 'health_insurance'], axis=1)\n",
    "\n",
    "# Define numerical and categorical features\n",
    "numerical_features = X.select_dtypes(include=['float64']).columns\n",
    "categorical_features = X.select_dtypes(include=['object']).columns\n",
    "numerical_transformer = Pipeline(steps=[\n",
    "    ('imputer', MiceImputer(n_imputations=1, random_state=42)),\n",
    "    ('scaler', StandardScaler())\n",
    "])\n",
    "categorical_transformer = Pipeline(steps=[\n",
    "    ('imputer', CategoricalImputer(strategy='most_frequent')),\n",
    "    ('onehot', OneHotEncoder(handle_unknown='ignore'))\n",
    "])\n",
    "preprocessor = ColumnTransformer(\n",
    "    transformers=[\n",
    "        ('num', numerical_transformer, numerical_features),\n",
    "        ('cat', categorical_transformer, categorical_features)\n",
    "    ])\n",
    "X_processed = preprocessor.fit_transform(X)\n",
    "X_processed.head()"
   ]
  },
  {
   "cell_type": "code",
   "execution_count": null,
   "id": "aeed5af8",
   "metadata": {},
   "outputs": [],
   "source": []
  }
 ],
 "metadata": {
  "kernelspec": {
   "display_name": "Python 3 (ipykernel)",
   "language": "python",
   "name": "python3"
  },
  "language_info": {
   "codemirror_mode": {
    "name": "ipython",
    "version": 3
   },
   "file_extension": ".py",
   "mimetype": "text/x-python",
   "name": "python",
   "nbconvert_exporter": "python",
   "pygments_lexer": "ipython3",
   "version": "3.11.5"
  }
 },
 "nbformat": 4,
 "nbformat_minor": 5
}
